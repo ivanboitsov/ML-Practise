{
 "cells": [
  {
   "cell_type": "markdown",
   "id": "ec6e7d18-6a6e-4a51-a7cd-0a1152604973",
   "metadata": {},
   "source": [
    "## Лабораторная работа №1 | Вариант 5"
   ]
  },
  {
   "cell_type": "markdown",
   "id": "277877ce-f982-4711-a6a6-2a4a90871409",
   "metadata": {},
   "source": [
    "Выполнил: "
   ]
  },
  {
   "cell_type": "markdown",
   "id": "031f025d-84dc-470f-b839-456a76d9636b",
   "metadata": {},
   "source": [
    "### 1. Numpy"
   ]
  },
  {
   "cell_type": "code",
   "execution_count": 2,
   "id": "8a2c6f8d-e85b-4982-ba6d-77ffdb7d53e8",
   "metadata": {},
   "outputs": [],
   "source": [
    "import numpy as np"
   ]
  },
  {
   "cell_type": "markdown",
   "id": "6ff3559d-5f3e-4540-9a31-bfb9f42a23da",
   "metadata": {},
   "source": [
    "1. Создайте единичную матрицу размером 3х3"
   ]
  },
  {
   "cell_type": "code",
   "execution_count": null,
   "id": "752bc586-1e3f-4085-85c3-4068b781314f",
   "metadata": {},
   "outputs": [],
   "source": []
  },
  {
   "cell_type": "markdown",
   "id": "0243a0f6-1905-4e2d-9572-9ba49dc003a8",
   "metadata": {},
   "source": [
    "2. Создайте кастомный dtype который описывает цвет состоящий из 4х unsigned bytes(RGBA пиксель)"
   ]
  },
  {
   "cell_type": "code",
   "execution_count": null,
   "id": "ec6ae581-5adf-459c-bdc7-8b015d9529f6",
   "metadata": {},
   "outputs": [],
   "source": []
  },
  {
   "cell_type": "markdown",
   "id": "8c7d3811-a555-4c02-ada8-e4a70b9dee46",
   "metadata": {},
   "source": [
    "3. Как игнорировать все numpy warnings(не рекомендуем к использованию)?"
   ]
  },
  {
   "cell_type": "code",
   "execution_count": null,
   "id": "12d0ed34-908c-4840-8b81-457e64dd7b0b",
   "metadata": {},
   "outputs": [],
   "source": []
  },
  {
   "cell_type": "markdown",
   "id": "b7ca56e6-a194-4c42-b8a2-307fcf40f648",
   "metadata": {},
   "source": [
    "4. Создайте случайный вектор размера 10 и отсортируйте его"
   ]
  },
  {
   "cell_type": "code",
   "execution_count": null,
   "id": "1b1d64cd-0e28-400f-8d49-a1274947e150",
   "metadata": {},
   "outputs": [],
   "source": []
  },
  {
   "cell_type": "markdown",
   "id": "b3b2cd1e-e996-45e0-b9ed-e12ce653a9c3",
   "metadata": {},
   "source": [
    "5. Создайте read-only массив(неизменяемый)"
   ]
  },
  {
   "cell_type": "code",
   "execution_count": null,
   "id": "c40ef785-d750-42ba-ac6e-b777866202a6",
   "metadata": {},
   "outputs": [],
   "source": []
  },
  {
   "cell_type": "markdown",
   "id": "8108b3a8-5ba8-472d-ad6b-095ade8678ef",
   "metadata": {},
   "source": [
    "6. Рассмотрим случайную матрицу размером 10х2, представляющую декартовы координаты, преобразуем их в полярные координаты"
   ]
  },
  {
   "cell_type": "code",
   "execution_count": null,
   "id": "89b58c0a-bd5d-435a-be45-719fdfce662a",
   "metadata": {},
   "outputs": [],
   "source": []
  },
  {
   "cell_type": "markdown",
   "id": "98511652-db85-4506-a5b8-f94b05d35ce9",
   "metadata": {},
   "source": [
    "7. Создайте структурированный массив с координатами x и y, охватывающий область [0,1]x[0,1]"
   ]
  },
  {
   "cell_type": "code",
   "execution_count": null,
   "id": "ca72cdb0-ed24-460d-81a9-220b850d62c3",
   "metadata": {},
   "outputs": [],
   "source": []
  },
  {
   "cell_type": "markdown",
   "id": "1412a70a-2a1e-406e-a227-afc9a47ed659",
   "metadata": {},
   "source": [
    "8. Учитывая два массива X и Y, постройте матрицу Коши $C$ ($C_{ij} =\\frac{1}{x_i - y_j}$)"
   ]
  },
  {
   "cell_type": "code",
   "execution_count": 3,
   "id": "22bb8bbf-52dd-4d3c-86c0-c4e9637b909b",
   "metadata": {},
   "outputs": [],
   "source": [
    "x = np.random.normal(size=(5))\n",
    "y = np.random.normal(size=(5))"
   ]
  },
  {
   "cell_type": "markdown",
   "id": "f7dc66bf-f7c8-4d78-834b-451651f6839a",
   "metadata": {},
   "source": [
    "9. Как конвертировать массив float(32 bit) к массиву целых чисел (integer 32 bit) in place?"
   ]
  },
  {
   "cell_type": "code",
   "execution_count": null,
   "id": "0ecf5586-d30e-4256-ab93-7ff9bab0b34b",
   "metadata": {},
   "outputs": [],
   "source": []
  },
  {
   "cell_type": "markdown",
   "id": "a66194f1-0099-4808-8ebf-5cf10eee5071",
   "metadata": {},
   "source": [
    "10. Как случайно заменить p элементов в 2D массиве?"
   ]
  },
  {
   "cell_type": "code",
   "execution_count": null,
   "id": "07ed452c-3f7c-40a7-a5b5-716602a5eed9",
   "metadata": {},
   "outputs": [],
   "source": []
  },
  {
   "cell_type": "markdown",
   "id": "5bd0f757-bb01-4afb-b4f0-6821b5c5b2b7",
   "metadata": {},
   "source": [
    "### 2. Pandas"
   ]
  },
  {
   "cell_type": "markdown",
   "id": "bdffd013-e573-4318-8062-65ae1c5e07e8",
   "metadata": {},
   "source": [
    "Найдите ответы на вопросы или выполните действия с предложенным датасетом \n",
    "\n",
    "Классический начальный набор данных - данные пассажиров титаника.\n",
    "\n",
    "Файл: `data.csv`\n",
    "\n",
    "```\n",
    "PassangerId - уникальный номер пассажира\n",
    "Survived - выжил человек или нет\n",
    "Pclass - класс обслуживания\n",
    "Name - имя человека, обращение к ней/нему\n",
    "Sex - пол человека\n",
    "Age - возраст на момент крушения\n",
    "SibSp - количество братьев и сестер / супругов на борту \"Титаника\"\n",
    "Parch - количество родителей / детей на борту \"Титаника\"\n",
    "Ticket - номер билета\n",
    "Fare - стоимость проезда для пассажиров\n",
    "Cabin - каюта\n",
    "Embarked - причал отбытия. C = Cherbourg Q = Queenstown S = Southampton\n",
    "```"
   ]
  },
  {
   "cell_type": "code",
   "execution_count": 12,
   "id": "0778ec2b-a7b2-4738-b771-bb1781986f62",
   "metadata": {},
   "outputs": [],
   "source": [
    "import pandas as pd"
   ]
  },
  {
   "cell_type": "code",
   "execution_count": 21,
   "id": "bfc45614-d44b-49bd-a55c-c410a95a808f",
   "metadata": {},
   "outputs": [],
   "source": [
    "# Load dataset here"
   ]
  },
  {
   "cell_type": "markdown",
   "id": "1026e8c6-513a-41e3-b2f4-68aae18b8435",
   "metadata": {},
   "source": [
    "1. Узнайте сколько было на борту человек"
   ]
  },
  {
   "cell_type": "code",
   "execution_count": null,
   "id": "e74655aa-b97c-42e5-b972-e0753ddc2331",
   "metadata": {},
   "outputs": [],
   "source": []
  },
  {
   "cell_type": "markdown",
   "id": "eee028a5-9311-4a4f-b4ac-1fb75acfb4b3",
   "metadata": {},
   "source": [
    "2. Какой медианный и средний возраста пассажиров"
   ]
  },
  {
   "cell_type": "code",
   "execution_count": null,
   "id": "ac0fb641-96d2-4e7c-88d5-636ce3b699d2",
   "metadata": {},
   "outputs": [],
   "source": []
  },
  {
   "cell_type": "markdown",
   "id": "cd7979ba-2fa8-4fd3-986d-26cee122da1f",
   "metadata": {},
   "source": [
    "3. Посчитайте процент выживаемости детей(до 16 лет) и взрослых"
   ]
  },
  {
   "cell_type": "code",
   "execution_count": null,
   "id": "3915f77b-116c-482b-8644-2f5f11931af9",
   "metadata": {},
   "outputs": [],
   "source": []
  },
  {
   "cell_type": "markdown",
   "id": "1b69ba67-61a8-4765-9795-cfab1a09e929",
   "metadata": {},
   "source": [
    "4. Верна ли гипотеза, что женщины и дети сажались в шлюпки первыми и выживали больше?"
   ]
  },
  {
   "cell_type": "code",
   "execution_count": null,
   "id": "1228d2e9-fc56-4240-95c6-c98a8b84c016",
   "metadata": {},
   "outputs": [],
   "source": []
  },
  {
   "cell_type": "markdown",
   "id": "5acec4fd-f740-49a8-a5d8-562d358239c9",
   "metadata": {},
   "source": [
    "5. Зависит ли выживаемость от класса обслуживания?"
   ]
  },
  {
   "cell_type": "code",
   "execution_count": null,
   "id": "cac8daef-f4e8-4c8b-b7f4-d41a6adf35ed",
   "metadata": {},
   "outputs": [],
   "source": []
  },
  {
   "cell_type": "markdown",
   "id": "8d6171a9-0f75-4f3e-ac54-95d03d1f70b6",
   "metadata": {},
   "source": [
    "6. Посчитайте средний возраст умерших женщин и мужчин"
   ]
  },
  {
   "cell_type": "code",
   "execution_count": null,
   "id": "c64d0892-2fb8-4304-966c-5cbb32b03c0a",
   "metadata": {},
   "outputs": [],
   "source": []
  },
  {
   "cell_type": "markdown",
   "id": "d29320f9-aef8-452c-9d61-0afa72dd93b6",
   "metadata": {},
   "source": [
    "7. Различается ли процент выживаемости пассажиров с хотя бы одним родственником на борту и одиночек?"
   ]
  },
  {
   "cell_type": "code",
   "execution_count": null,
   "id": "d04e1904-f9f3-40bd-abbd-4d53ee9f7bd2",
   "metadata": {},
   "outputs": [],
   "source": []
  },
  {
   "cell_type": "markdown",
   "id": "1d447d6e-cfde-411c-9078-cd8f41f02d8b",
   "metadata": {},
   "source": [
    "8. Различается ли средняя стоимость билета у умерших и выживших пассажиров?"
   ]
  },
  {
   "cell_type": "code",
   "execution_count": null,
   "id": "b30df6b1-5eca-43da-a115-1c1a3cbfd899",
   "metadata": {},
   "outputs": [],
   "source": []
  },
  {
   "cell_type": "markdown",
   "id": "c41d5d99-65f7-4d17-82ae-971ec959f327",
   "metadata": {},
   "source": [
    "9. Выведите максимальный и минимальный возраст выживших пассажиров во 2 классе обслуживания"
   ]
  },
  {
   "cell_type": "code",
   "execution_count": null,
   "id": "275bcc04-659b-4521-a9e5-200a5f4ef674",
   "metadata": {},
   "outputs": [],
   "source": []
  },
  {
   "cell_type": "markdown",
   "id": "a1f7a5c0-259c-4837-a5d1-2dfc05e7c13e",
   "metadata": {},
   "source": [
    "10. Подтвердите или опровергните гипотезу: молодым мужчинам(от 18 лет) выжить легче, чем более взрослым"
   ]
  },
  {
   "cell_type": "code",
   "execution_count": null,
   "id": "a2da4d57-edb4-4179-8bee-3deda6cd00e6",
   "metadata": {},
   "outputs": [],
   "source": []
  },
  {
   "cell_type": "markdown",
   "id": "deb4ca3a-3d8a-4205-bee9-d26fd28638b2",
   "metadata": {},
   "source": [
    "### 3. Визуализация"
   ]
  },
  {
   "cell_type": "markdown",
   "id": "f8941ce1-cbf2-465a-b013-1b84aeb999ef",
   "metadata": {},
   "source": [
    "Используя библиотеки matplotlib/sns/plotly/pandas и набор данных представленный ранее визуализируйте"
   ]
  },
  {
   "cell_type": "markdown",
   "id": "5e98ce6f-8d02-4120-ad85-241494c038d6",
   "metadata": {},
   "source": [
    "1. Постройте гистограмму распределения возростов пассажиров"
   ]
  },
  {
   "cell_type": "code",
   "execution_count": null,
   "id": "664666b2-17b7-49dd-a3bd-c4be9361755d",
   "metadata": {},
   "outputs": [],
   "source": []
  },
  {
   "cell_type": "markdown",
   "id": "4c7500bb-36ca-4ea7-bc3c-4f15afbd4c41",
   "metadata": {},
   "source": [
    "2. Постройте гистограммы распределения цен для пассажиров разных классов"
   ]
  },
  {
   "cell_type": "code",
   "execution_count": null,
   "id": "7325e7f8-5f00-4a82-8184-7064505f7ccd",
   "metadata": {},
   "outputs": [],
   "source": []
  },
  {
   "cell_type": "markdown",
   "id": "efdd0669-36e0-4708-ac6b-ad0d92881113",
   "metadata": {},
   "source": [
    "3. Постройте зависимость цены от возраста пассажира"
   ]
  },
  {
   "cell_type": "code",
   "execution_count": null,
   "id": "7504a170-04a1-4b86-924d-8d46be16fd3c",
   "metadata": {},
   "outputs": [],
   "source": []
  },
  {
   "cell_type": "markdown",
   "id": "b5839a48-e992-45fc-81ee-59cb5aa79dda",
   "metadata": {},
   "source": [
    "4. Постройте box plot отображающий распределение цен на билеты в разных классах"
   ]
  },
  {
   "cell_type": "code",
   "execution_count": null,
   "id": "1a942378-45ea-47a0-bac9-488960491613",
   "metadata": {},
   "outputs": [],
   "source": []
  },
  {
   "cell_type": "markdown",
   "id": "d4c97bef-bb64-43cc-a89f-7510174492ec",
   "metadata": {},
   "source": [
    "5. Визуализируйте распределение долей выживших среди мужчин, женщин и детей(до 16 лет)"
   ]
  },
  {
   "cell_type": "code",
   "execution_count": null,
   "id": "a1f444af-3544-432c-8dc6-bb74d4cff272",
   "metadata": {},
   "outputs": [],
   "source": []
  },
  {
   "cell_type": "markdown",
   "id": "16249674-e680-4ab0-a16a-4e98c24202ed",
   "metadata": {},
   "source": [
    "6. Сравните плотности распределения возростов выживших и умерших пассажиров, сделайте выводы"
   ]
  },
  {
   "cell_type": "code",
   "execution_count": null,
   "id": "5d1f5e09-3f97-45ad-87f8-c9796cc214db",
   "metadata": {},
   "outputs": [],
   "source": []
  },
  {
   "cell_type": "markdown",
   "id": "16afdeec-8c90-4ed1-a599-e0b1343bbf5c",
   "metadata": {},
   "source": [
    "7. Постройте круговую диаграмму отображающую выживаемость мужчин и женщин в разных классах обслуживания(визуализация должна быть интуитивно понятная без объяснений, женщины и мужчины соответствующих классов объеденены визуально в одну группу и 2 подгруппы)*\n",
    "\n",
    "\\* Задание на доп. балл"
   ]
  },
  {
   "cell_type": "code",
   "execution_count": null,
   "id": "e10d0cc7-a1ca-4204-a875-b1660e44618d",
   "metadata": {},
   "outputs": [],
   "source": []
  }
 ],
 "metadata": {
  "kernelspec": {
   "display_name": "Python 3 (ipykernel)",
   "language": "python",
   "name": "python3"
  },
  "language_info": {
   "codemirror_mode": {
    "name": "ipython",
    "version": 3
   },
   "file_extension": ".py",
   "mimetype": "text/x-python",
   "name": "python",
   "nbconvert_exporter": "python",
   "pygments_lexer": "ipython3",
   "version": "3.11.7"
  }
 },
 "nbformat": 4,
 "nbformat_minor": 5
}
