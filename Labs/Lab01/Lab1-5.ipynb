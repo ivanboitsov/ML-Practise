{
 "cells": [
  {
   "cell_type": "markdown",
   "id": "ec6e7d18-6a6e-4a51-a7cd-0a1152604973",
   "metadata": {},
   "source": [
    "## Лабораторная работа №1 | Вариант 5"
   ]
  },
  {
   "cell_type": "markdown",
   "id": "277877ce-f982-4711-a6a6-2a4a90871409",
   "metadata": {},
   "source": [
    "Выполнил: Бойцов Иван Алексеевич"
   ]
  },
  {
   "cell_type": "markdown",
   "id": "031f025d-84dc-470f-b839-456a76d9636b",
   "metadata": {},
   "source": [
    "### 1. Numpy"
   ]
  },
  {
   "cell_type": "code",
   "execution_count": 1,
   "id": "8a2c6f8d-e85b-4982-ba6d-77ffdb7d53e8",
   "metadata": {},
   "outputs": [],
   "source": [
    "import numpy as np"
   ]
  },
  {
   "cell_type": "markdown",
   "id": "6ff3559d-5f3e-4540-9a31-bfb9f42a23da",
   "metadata": {},
   "source": [
    "1. Создайте единичную матрицу размером 3х3"
   ]
  },
  {
   "cell_type": "code",
   "execution_count": 32,
   "id": "752bc586-1e3f-4085-85c3-4068b781314f",
   "metadata": {},
   "outputs": [
    {
     "name": "stdout",
     "output_type": "stream",
     "text": [
      "Единичный вектор :\n",
      " [[1. 0. 0.]\n",
      " [0. 1. 0.]\n",
      " [0. 0. 1.]]\n"
     ]
    }
   ],
   "source": [
    "matrix = np.identity(3)\n",
    "\n",
    "print(\"Единичный вектор :\\n\", matrix)"
   ]
  },
  {
   "cell_type": "markdown",
   "id": "0243a0f6-1905-4e2d-9572-9ba49dc003a8",
   "metadata": {},
   "source": [
    "2. Создайте кастомный dtype который описывает цвет состоящий из 4х unsigned bytes(RGBA пиксель)"
   ]
  },
  {
   "cell_type": "code",
   "execution_count": 33,
   "id": "ec6ae581-5adf-459c-bdc7-8b015d9529f6",
   "metadata": {},
   "outputs": [
    {
     "name": "stdout",
     "output_type": "stream",
     "text": [
      "[(255, 128, 64, 255)]\n"
     ]
    }
   ],
   "source": [
    "rgba = np.dtype([\n",
    "    ('R', np.uint8),\n",
    "    ('G', np.uint8),\n",
    "    ('B', np.uint8),\n",
    "    ('a' , np.uint8)\n",
    "])\n",
    "\n",
    "# Example\n",
    "pixel = np.array([(255, 128, 64, 255)], dtype = rgba)\n",
    "print(pixel)"
   ]
  },
  {
   "cell_type": "markdown",
   "id": "8c7d3811-a555-4c02-ada8-e4a70b9dee46",
   "metadata": {},
   "source": [
    "3. Как игнорировать все numpy warnings(не рекомендуем к использованию)?"
   ]
  },
  {
   "cell_type": "code",
   "execution_count": 74,
   "id": "12d0ed34-908c-4840-8b81-457e64dd7b0b",
   "metadata": {},
   "outputs": [
    {
     "data": {
      "text/plain": [
       "{'divide': 'warn', 'over': 'warn', 'under': 'ignore', 'invalid': 'warn'}"
      ]
     },
     "execution_count": 74,
     "metadata": {},
     "output_type": "execute_result"
    }
   ],
   "source": [
    "np.seterr(all=\"ignore\")"
   ]
  },
  {
   "cell_type": "markdown",
   "id": "b7ca56e6-a194-4c42-b8a2-307fcf40f648",
   "metadata": {},
   "source": [
    "4. Создайте случайный вектор размера 10 и отсортируйте его"
   ]
  },
  {
   "cell_type": "code",
   "execution_count": 34,
   "id": "1b1d64cd-0e28-400f-8d49-a1274947e150",
   "metadata": {},
   "outputs": [
    {
     "name": "stdout",
     "output_type": "stream",
     "text": [
      "Оригинальный вектор: [0.0465929  0.79838839 0.38914204 0.01587089 0.38166123 0.76611544\n",
      " 0.62215028 0.55419872 0.83110322 0.74643721]\n",
      "Отсортированный вектор:  [0.01587089 0.0465929  0.38166123 0.38914204 0.55419872 0.62215028\n",
      " 0.74643721 0.76611544 0.79838839 0.83110322]\n"
     ]
    }
   ],
   "source": [
    "vec = np.random.random(10)\n",
    "\n",
    "print(\"Оригинальный вектор:\", vec)\n",
    "\n",
    "vec_sorted = np.sort(vec)\n",
    "\n",
    "print(\"Отсортированный вектор: \", vec_sorted)"
   ]
  },
  {
   "cell_type": "markdown",
   "id": "b3b2cd1e-e996-45e0-b9ed-e12ce653a9c3",
   "metadata": {},
   "source": [
    "5. Создайте read-only массив(неизменяемый)"
   ]
  },
  {
   "cell_type": "code",
   "execution_count": 35,
   "id": "c40ef785-d750-42ba-ac6e-b777866202a6",
   "metadata": {},
   "outputs": [
    {
     "name": "stdout",
     "output_type": "stream",
     "text": [
      "Read-only массив:  [0. 0. 0. 0. 0. 0. 0. 0. 0. 0.]\n"
     ]
    }
   ],
   "source": [
    "arr = np.zeros(10)\n",
    "\n",
    "arr.flags.writeable = False\n",
    "\n",
    "print(\"Read-only массив: \",arr)"
   ]
  },
  {
   "cell_type": "markdown",
   "id": "8108b3a8-5ba8-472d-ad6b-095ade8678ef",
   "metadata": {},
   "source": [
    "6. Рассмотрим случайную матрицу размером 10х2, представляющую декартовы координаты, преобразуем их в полярные координаты"
   ]
  },
  {
   "cell_type": "code",
   "execution_count": 36,
   "id": "89b58c0a-bd5d-435a-be45-719fdfce662a",
   "metadata": {},
   "outputs": [
    {
     "name": "stdout",
     "output_type": "stream",
     "text": [
      "Декартовы координаты: \n",
      " [[6.52415288 1.96048137]\n",
      " [8.30401719 2.9578063 ]\n",
      " [9.45615592 7.91808996]\n",
      " [5.961861   9.92025474]\n",
      " [0.32496955 6.5748145 ]\n",
      " [0.06824553 7.83143395]\n",
      " [1.13570601 2.51785187]\n",
      " [0.23539013 7.06186498]\n",
      " [3.35056405 9.97905841]\n",
      " [7.20363749 4.99134301]]\n",
      "Полярные координаты: \n",
      " [[ 6.812346    1.09911822]\n",
      " [ 8.81506209  1.24477233]\n",
      " [12.33349234  1.44516835]\n",
      " [11.57390344  1.47033183]\n",
      " [ 6.58284064  1.41985758]\n",
      " [ 7.8317313   1.44379307]\n",
      " [ 2.76213798  1.19273721]\n",
      " [ 7.06578697  1.43012595]\n",
      " [10.52653249  1.4709199 ]\n",
      " [ 8.76389743  1.37306725]]\n"
     ]
    }
   ],
   "source": [
    "# Декартовы координаты\n",
    "cartesian_coords = np.random.rand(10, 2) * 10\n",
    "\n",
    "print(\"Декартовы координаты: \\n\", cartesian_coords)\n",
    "\n",
    "x = cartesian_coords[:, 0] # Координаты X\n",
    "y = cartesian_coords[:, 1] # Координаты Y\n",
    "\n",
    "# Вычисляем полярыне координаты по формуле\n",
    "r = np.sqrt(x**2 + y**2) # Radius\n",
    "theta = np.arctan(y, x) # Corner in radians\n",
    "\n",
    "polar_coords = np.column_stack((r, theta))\n",
    "\n",
    "print(\"Полярные координаты: \\n\", polar_coords)"
   ]
  },
  {
   "cell_type": "markdown",
   "id": "98511652-db85-4506-a5b8-f94b05d35ce9",
   "metadata": {},
   "source": [
    "7. Создайте структурированный массив с координатами x и y, охватывающий область [0,1]x[0,1]"
   ]
  },
  {
   "cell_type": "code",
   "execution_count": 41,
   "id": "ca72cdb0-ed24-460d-81a9-220b850d62c3",
   "metadata": {},
   "outputs": [
    {
     "name": "stdout",
     "output_type": "stream",
     "text": [
      "Структурированный массив координат (x, y):\n",
      " [(0.26092246, 0.86265564) (0.26505513, 0.91901891)\n",
      " (0.69483903, 0.52399932) (0.01211719, 0.74849658)\n",
      " (0.83582611, 0.34251786)]\n"
     ]
    }
   ],
   "source": [
    "coords = [('x', np.float64), ('y', np.float64)]\n",
    "\n",
    "num_points = 5\n",
    "coord = np.zeros(num_points, dtype=coords)\n",
    "\n",
    "coord['x'] = np.random.rand(num_points)\n",
    "coord['y'] = np.random.rand(num_points)\n",
    "\n",
    "print(\"Структурированный массив координат (x, y):\\n\", coord)"
   ]
  },
  {
   "cell_type": "markdown",
   "id": "1412a70a-2a1e-406e-a227-afc9a47ed659",
   "metadata": {},
   "source": [
    "8. Учитывая два массива X и Y, постройте матрицу Коши $C$ ($C_{ij} =\\frac{1}{x_i - y_j}$)"
   ]
  },
  {
   "cell_type": "code",
   "execution_count": 48,
   "id": "22bb8bbf-52dd-4d3c-86c0-c4e9637b909b",
   "metadata": {},
   "outputs": [
    {
     "name": "stdout",
     "output_type": "stream",
     "text": [
      "Матрица Коши: \n",
      " [[ -1.55218215   3.54643005  -2.59866986  -8.12917748 -65.0923447 ]\n",
      " [ -0.55238484  -1.13108851  -0.64479103  -0.77574013  -0.84642427]\n",
      " [ -0.62280837  -1.47188193  -0.74283815  -0.9221777   -1.02381516]\n",
      " [ -0.66559374  -1.73553867  -0.80452081  -1.01918373  -1.144785  ]\n",
      " [ -0.67291207  -1.78619185  -0.81523762  -1.0364438   -1.16660691]]\n"
     ]
    }
   ],
   "source": [
    "x = np.random.normal(size=(5))\n",
    "y = np.random.normal(size=(5))\n",
    "\n",
    "# Преобразование в вектор массив и вычет из каждого элемента массива y\n",
    "C = 1.0 / (x[:, np.newaxis] - y)\n",
    "\n",
    "print(\"Матрица Коши: \\n\", C)"
   ]
  },
  {
   "cell_type": "markdown",
   "id": "f7dc66bf-f7c8-4d78-834b-451651f6839a",
   "metadata": {},
   "source": [
    "9. Как конвертировать массив float(32 bit) к массиву целых чисел (integer 32 bit) in place?"
   ]
  },
  {
   "cell_type": "code",
   "execution_count": 49,
   "id": "0ecf5586-d30e-4256-ab93-7ff9bab0b34b",
   "metadata": {},
   "outputs": [
    {
     "name": "stdout",
     "output_type": "stream",
     "text": [
      "Конвертированный массив:  [1 1 2 3 4 0]\n"
     ]
    }
   ],
   "source": [
    "arr = np.array([1.5, 1.4, 2.9, 3.1, 4.5, 0.5], dtype=np.float32)\n",
    "\n",
    "arr = arr.astype(np.int32, copy=False)\n",
    "\n",
    "print(\"Конвертированный массив: \", arr)"
   ]
  },
  {
   "cell_type": "markdown",
   "id": "a66194f1-0099-4808-8ebf-5cf10eee5071",
   "metadata": {},
   "source": [
    "10. Как случайно заменить p элементов в 2D массиве?"
   ]
  },
  {
   "cell_type": "code",
   "execution_count": 63,
   "id": "07ed452c-3f7c-40a7-a5b5-716602a5eed9",
   "metadata": {},
   "outputs": [
    {
     "name": "stdout",
     "output_type": "stream",
     "text": [
      "Оригинальный массив: \n",
      " [[80 71 90 98 40]\n",
      " [79 81 70 79 86]\n",
      " [57 17 36 58 25]\n",
      " [57 69 79  4 92]\n",
      " [ 4 25 37 29 51]]\n",
      "Массив со случайными заменами: \n",
      " [[80 71 90  0 40]\n",
      " [ 0  0 70 79 86]\n",
      " [57 17 36 58 25]\n",
      " [57  0 79  4 92]\n",
      " [ 4 25 37 29  0]]\n"
     ]
    }
   ],
   "source": [
    "arr = np.random.randint(low=1, high=100, size=[5,5])\n",
    "\n",
    "p = 5 # Количество заменяемых элементов\n",
    "print(\"Оригинальный массив: \\n\" , arr)\n",
    "\n",
    "np.put(arr, np.random.choice(range(arr.size), p, replace=False), 0)\n",
    "\n",
    "print(\"Массив со случайными заменами: \\n\", arr)"
   ]
  },
  {
   "cell_type": "markdown",
   "id": "5bd0f757-bb01-4afb-b4f0-6821b5c5b2b7",
   "metadata": {},
   "source": [
    "### 2. Pandas"
   ]
  },
  {
   "cell_type": "markdown",
   "id": "bdffd013-e573-4318-8062-65ae1c5e07e8",
   "metadata": {},
   "source": [
    "Найдите ответы на вопросы или выполните действия с предложенным датасетом \n",
    "\n",
    "Классический начальный набор данных - данные пассажиров титаника.\n",
    "\n",
    "Файл: `data.csv`\n",
    "\n",
    "```\n",
    "PassangerId - уникальный номер пассажира\n",
    "Survived - выжил человек или нет\n",
    "Pclass - класс обслуживания\n",
    "Name - имя человека, обращение к ней/нему\n",
    "Sex - пол человека\n",
    "Age - возраст на момент крушения\n",
    "SibSp - количество братьев и сестер / супругов на борту \"Титаника\"\n",
    "Parch - количество родителей / детей на борту \"Титаника\"\n",
    "Ticket - номер билета\n",
    "Fare - стоимость проезда для пассажиров\n",
    "Cabin - каюта\n",
    "Embarked - причал отбытия. C = Cherbourg Q = Queenstown S = Southampton\n",
    "```"
   ]
  },
  {
   "cell_type": "code",
   "execution_count": 64,
   "id": "0778ec2b-a7b2-4738-b771-bb1781986f62",
   "metadata": {},
   "outputs": [],
   "source": [
    "import pandas as pd"
   ]
  },
  {
   "cell_type": "code",
   "execution_count": 81,
   "id": "bfc45614-d44b-49bd-a55c-c410a95a808f",
   "metadata": {},
   "outputs": [
    {
     "name": "stderr",
     "output_type": "stream",
     "text": [
      "<>:1: SyntaxWarning: invalid escape sequence '\\W'\n",
      "<>:1: SyntaxWarning: invalid escape sequence '\\W'\n",
      "C:\\Users\\ivanb\\AppData\\Local\\Temp\\ipykernel_37100\\2044636768.py:1: SyntaxWarning: invalid escape sequence '\\W'\n",
      "  DATA_SET = \"D:\\Work\\VS Code Projects\\ML-Practise\\Labs\\Lab01\\data.csv\"\n"
     ]
    }
   ],
   "source": [
    "DATA_SET = \"D:\\Work\\VS Code Projects\\ML-Practise\\Labs\\Lab01\\data.csv\""
   ]
  },
  {
   "cell_type": "markdown",
   "id": "1026e8c6-513a-41e3-b2f4-68aae18b8435",
   "metadata": {},
   "source": [
    "1. Узнайте сколько было на борту человек"
   ]
  },
  {
   "cell_type": "code",
   "execution_count": 186,
   "id": "e74655aa-b97c-42e5-b972-e0753ddc2331",
   "metadata": {},
   "outputs": [
    {
     "name": "stdout",
     "output_type": "stream",
     "text": [
      "На борту было 891 человек(а)\n"
     ]
    }
   ],
   "source": [
    "df = pd.read_csv(DATA_SET)\n",
    "\n",
    "print(\"На борту было\", df.shape[0], \"человек(а)\")"
   ]
  },
  {
   "cell_type": "markdown",
   "id": "eee028a5-9311-4a4f-b4ac-1fb75acfb4b3",
   "metadata": {},
   "source": [
    "2. Какой медианный и средний возраста пассажиров"
   ]
  },
  {
   "cell_type": "code",
   "execution_count": 185,
   "id": "ac0fb641-96d2-4e7c-88d5-636ce3b699d2",
   "metadata": {},
   "outputs": [
    {
     "name": "stdout",
     "output_type": "stream",
     "text": [
      "Медианный возраст: 28.0 \n",
      "Средниый возраст: 29.69911764705882\n"
     ]
    }
   ],
   "source": [
    "mean_age = df['Age'].mean()\n",
    "median_age = df['Age'].median()\n",
    "\n",
    "print(\"Медианный возраст:\", median_age, '\\n'\n",
    "      \"Средниый возраст:\", mean_age)"
   ]
  },
  {
   "cell_type": "markdown",
   "id": "cd7979ba-2fa8-4fd3-986d-26cee122da1f",
   "metadata": {},
   "source": [
    "3. Посчитайте процент выживаемости детей(до 16 лет) и взрослых"
   ]
  },
  {
   "cell_type": "code",
   "execution_count": 176,
   "id": "3915f77b-116c-482b-8644-2f5f11931af9",
   "metadata": {},
   "outputs": [
    {
     "name": "stdout",
     "output_type": "stream",
     "text": [
      "Выживаемость детей: 59.036144578313255 \n",
      "Выживаемость взрослых: 38.193343898573694 \n",
      "Общая выживаемость 38.38383838383838\n"
     ]
    }
   ],
   "source": [
    "kids_survive = df[df['Age'] < 16]['Survived'].mean() * 100\n",
    "\n",
    "adult_survive = df[df['Age'] >= 16]['Survived'].mean() * 100\n",
    "\n",
    "survive = df['Survived'].mean() * 100\n",
    "\n",
    "print(\"Выживаемость детей:\", kids_survive, '\\n'\n",
    "      \"Выживаемость взрослых:\", adult_survive, '\\n'\n",
    "      \"Общая выживаемость\", survive)"
   ]
  },
  {
   "cell_type": "markdown",
   "id": "1b69ba67-61a8-4765-9795-cfab1a09e929",
   "metadata": {},
   "source": [
    "4. Верна ли гипотеза, что женщины и дети сажались в шлюпки первыми и выживали больше?"
   ]
  },
  {
   "cell_type": "code",
   "execution_count": 156,
   "id": "1228d2e9-fc56-4240-95c6-c98a8b84c016",
   "metadata": {},
   "outputs": [
    {
     "name": "stdout",
     "output_type": "stream",
     "text": [
      "Женщин выжило: 218 \n",
      "Детей выжило: 83 \n",
      "Мужчин выжило: 413 \n",
      "\n",
      "Женщин в процентном соотношении выжило: 77.52293577981652 \n",
      "Детей в процентном соотношении выжило: 59.036144578313255 \n",
      "Мужчин в процентном соотношении выжило: 17.433414043583532 \n",
      "\n",
      "С точки зрения процентов, то теория верна - женщин и детей выжило больше\n"
     ]
    }
   ],
   "source": [
    "woman_survive = df[(df['Age'] >= 16) & (df['Sex'] == 'female')]['Survived'].shape[0]\n",
    "\n",
    "kids_survive = df[df['Age'] < 16]['Survived'].shape[0]\n",
    "\n",
    "man_survive = df[(df['Age'] >= 16) & (df['Sex'] == 'male')]['Survived'].shape[0]\n",
    "\n",
    "print(\"Женщин выжило:\", woman_survive, '\\n'\n",
    "      \"Детей выжило:\", kids_survive, '\\n'\n",
    "      \"Мужчин выжило:\", man_survive, '\\n')\n",
    "\n",
    "woman_survive_per = df[(df['Age'] >= 16) & (df['Sex'] == 'female')]['Survived'].mean() * 100\n",
    "\n",
    "kids_survive_per = df[df['Age'] < 16]['Survived'].mean() * 100\n",
    "\n",
    "man_survive_per = df[(df['Age'] >= 16) & (df['Sex'] == 'male')]['Survived'].mean() * 100\n",
    "\n",
    "print(\"Женщин в процентном соотношении выжило:\", woman_survive_per, '\\n'\n",
    "      \"Детей в процентном соотношении выжило:\", kids_survive_per, '\\n'\n",
    "      \"Мужчин в процентном соотношении выжило:\", man_survive_per, '\\n')\n",
    "\n",
    "print(\"С точки зрения процентов, то теория верна - женщин и детей выжило больше\")"
   ]
  },
  {
   "cell_type": "markdown",
   "id": "5acec4fd-f740-49a8-a5d8-562d358239c9",
   "metadata": {},
   "source": [
    "5. Зависит ли выживаемость от класса обслуживания?"
   ]
  },
  {
   "cell_type": "code",
   "execution_count": 147,
   "id": "cac8daef-f4e8-4c8b-b7f4-d41a6adf35ed",
   "metadata": {},
   "outputs": [
    {
     "name": "stdout",
     "output_type": "stream",
     "text": [
      "Выживаемость первого класса 62.96296296296296 \n",
      "Выживаемость второго класса 47.28260869565217 \n",
      "Выживаемость третьего класса 24.236252545824847 \n",
      "\n",
      "Да, выживаемость зависит от класса, люди из третьего класса выжили в меньшем соотношении\n"
     ]
    }
   ],
   "source": [
    "first_class = df[df['Pclass'] == 1]['Survived'].mean() * 100\n",
    "second_class = df[df['Pclass'] == 2]['Survived'].mean() * 100\n",
    "third_class = df[df['Pclass'] == 3]['Survived'].mean() * 100\n",
    "\n",
    "print(\"Выживаемость первого класса\", first_class, '\\n'\n",
    "      \"Выживаемость второго класса\", second_class, '\\n'\n",
    "      \"Выживаемость третьего класса\", third_class, '\\n')\n",
    "\n",
    "print(\"Да, выживаемость зависит от класса, люди из третьего класса выжили в меньшем соотношении\")"
   ]
  },
  {
   "cell_type": "markdown",
   "id": "8d6171a9-0f75-4f3e-ac54-95d03d1f70b6",
   "metadata": {},
   "source": [
    "6. Посчитайте средний возраст умерших женщин и мужчин"
   ]
  },
  {
   "cell_type": "code",
   "execution_count": 163,
   "id": "c64d0892-2fb8-4304-966c-5cbb32b03c0a",
   "metadata": {},
   "outputs": [
    {
     "name": "stdout",
     "output_type": "stream",
     "text": [
      "Средний возраст умерших: 30.62617924528302 \n",
      "Средний возраст умерших женщин: 25.046875 \n",
      "Средний возраст умерших мужчин: 31.618055555555557\n"
     ]
    }
   ],
   "source": [
    "woman_dead = df[(df['Survived'] == 0) & (df['Sex'] == 'female')]['Age'].mean()\n",
    "man_dead = df[(df['Survived'] == 0) & (df['Sex'] == 'male')]['Age'].mean()\n",
    "\n",
    "dead_age = df[df['Survived'] == 0]['Age'].mean()\n",
    "\n",
    "print(\"Средний возраст умерших:\", dead_age, '\\n'\n",
    "      \"Средний возраст умерших женщин:\", woman_dead, '\\n'\n",
    "      \"Средний возраст умерших мужчин:\", man_dead)"
   ]
  },
  {
   "cell_type": "markdown",
   "id": "d29320f9-aef8-452c-9d61-0afa72dd93b6",
   "metadata": {},
   "source": [
    "7. Различается ли процент выживаемости пассажиров с хотя бы одним родственником на борту и одиночек?"
   ]
  },
  {
   "cell_type": "code",
   "execution_count": 178,
   "id": "d04e1904-f9f3-40bd-abbd-4d53ee9f7bd2",
   "metadata": {},
   "outputs": [
    {
     "name": "stdout",
     "output_type": "stream",
     "text": [
      "Выживаемость одиночек: 30.353817504655495 \n",
      "Выживаемость людей, имеющих родственников: 50.56497175141242 \n",
      "Процент выживаемости людей, имеющих родственников, на 20% больше\n"
     ]
    }
   ],
   "source": [
    "zero_siblings = df[(df['SibSp'] == 0) & (df['Parch'] == 0)]['Survived'].mean() * 100\n",
    "have_siblings = df[(df['SibSp'] >= 1) | (df['Parch'] >= 1)]['Survived'].mean() * 100\n",
    "\n",
    "print(\"Выживаемость одиночек:\", zero_siblings, '\\n'\n",
    "      \"Выживаемость людей, имеющих родственников:\", have_siblings, '\\n'\n",
    "      \"Процент выживаемости людей, имеющих родственников, на 20% больше\")"
   ]
  },
  {
   "cell_type": "markdown",
   "id": "1d447d6e-cfde-411c-9078-cd8f41f02d8b",
   "metadata": {},
   "source": [
    "8. Различается ли средняя стоимость билета у умерших и выживших пассажиров?"
   ]
  },
  {
   "cell_type": "code",
   "execution_count": 180,
   "id": "b30df6b1-5eca-43da-a115-1c1a3cbfd899",
   "metadata": {},
   "outputs": [
    {
     "name": "stdout",
     "output_type": "stream",
     "text": [
      "Средняя стоимость билета умершего пассажира: 22.117886885245902 \n",
      "Средняя стоимость билета выжившего пассажира: 48.39540760233918 \n",
      "У выживших пассажиров средняя стоимость билета больше\n"
     ]
    }
   ],
   "source": [
    "fare_dead = df[df['Survived'] == 0]['Fare'].mean()\n",
    "fare_survive = df[df['Survived'] == 1]['Fare'].mean()\n",
    "\n",
    "print(\"Средняя стоимость билета умершего пассажира:\", fare_dead, '\\n'\n",
    "      \"Средняя стоимость билета выжившего пассажира:\", fare_survive, '\\n'\n",
    "      \"У выживших пассажиров средняя стоимость билета больше\")"
   ]
  },
  {
   "cell_type": "markdown",
   "id": "c41d5d99-65f7-4d17-82ae-971ec959f327",
   "metadata": {},
   "source": [
    "9. Выведите максимальный и минимальный возраст выживших пассажиров во 2 классе обслуживания"
   ]
  },
  {
   "cell_type": "code",
   "execution_count": 189,
   "id": "275bcc04-659b-4521-a9e5-200a5f4ef674",
   "metadata": {},
   "outputs": [
    {
     "name": "stdout",
     "output_type": "stream",
     "text": [
      "Максимальный возраст выжившего пассажира из второго класса 62.0 \n",
      "Минимальный возраст выжившего пассажира из второго класса 0.67\n"
     ]
    }
   ],
   "source": [
    "second_class_max_age = df[(df['Pclass'] == 2) & (df['Survived'] == 1)]['Age'].max()\n",
    "second_class_min_age = df[(df['Pclass'] == 2) & (df['Survived'] == 1)]['Age'].min()\n",
    "\n",
    "print(\"Максимальный возраст выжившего пассажира из второго класса\", second_class_max_age, '\\n'\n",
    "      \"Минимальный возраст выжившего пассажира из второго класса\", second_class_min_age)"
   ]
  },
  {
   "cell_type": "markdown",
   "id": "a1f7a5c0-259c-4837-a5d1-2dfc05e7c13e",
   "metadata": {},
   "source": [
    "10. Подтвердите или опровергните гипотезу: молодым мужчинам(от 18 лет) выжить легче, чем более взрослым"
   ]
  },
  {
   "cell_type": "code",
   "execution_count": 213,
   "id": "a2da4d57-edb4-4179-8bee-3deda6cd00e6",
   "metadata": {},
   "outputs": [
    {
     "name": "stdout",
     "output_type": "stream",
     "text": [
      "Зависит от предела, на котором заканчивается категория молодой мужчина. Если предположить, что молодой - это до 30 лет, то получаются следующие проценты \n",
      "Выживаемость молодых мужчин: 15.64245810055866 \n",
      "Выживаемость более взрослых мужчин 19.444444444444446 \n",
      "Как видно из процентных соотношений, взрослые мужчины выживают с большей вероятностью \n",
      "\n",
      "Если предположить, что взрослые мужчины - возраст до 40 лет, то получаются уже другие проценты \n",
      "Выживаемость молодых мужчин: 17.832167832167833 \n",
      "Выживаемость более взрослых мужчин 17.431192660550458 \n",
      "В этот раз они практически равны, однако виживаемость молодых мужчин будет на 0.4% больше \n",
      "\n",
      "Если предположить, что взрослые мужчины - возраст до 50 лет, то получаются уже другие проценты \n",
      "Выживаемость молодых мужчин: 18.367346938775512 \n",
      "Выживаемость более взрослых мужчин 13.461538461538462 \n",
      "Наконец, если сказть, что возраст молодого человека - до 50 лет, то только в таком случае молодой мужчина будет сильно обгонять процентную выживаемость более взрослого \n",
      "\n",
      "Однако, я считаю возраст молодого человека до 30 более корректным, поэтому возьму за основу эту статистику и опровергну теорию, сказав что по процентному соотношению взрослому человеку выжить легче\n",
      "Выживаемость молодых мужчин: 15.64245810055866 \n",
      "Выживаемость более взрослых мужчин 19.444444444444446\n"
     ]
    }
   ],
   "source": [
    "yong_man = df[(df['Sex'] == 'male') & (df['Age'] >= 18) & (df['Age'] < 30)]['Survived'].mean() * 100\n",
    "adult_man = df[(df['Sex'] == 'male') & (df['Age'] >= 30)]['Survived'].mean() * 100\n",
    "\n",
    "print(\"Зависит от предела, на котором заканчивается категория молодой мужчина. Если предположить, что молодой - это до 30 лет, то получаются следующие проценты\", \"\\n\"\n",
    "      \"Выживаемость молодых мужчин:\", yong_man, '\\n'\n",
    "      \"Выживаемость более взрослых мужчин\", adult_man, '\\n'\n",
    "      \"Как видно из процентных соотношений, взрослые мужчины выживают с большей вероятностью\", \"\\n\")\n",
    "\n",
    "yong_man = df[(df['Sex'] == 'male') & (df['Age'] >= 18) & (df['Age'] < 40)]['Survived'].mean() * 100\n",
    "adult_man = df[(df['Sex'] == 'male') & (df['Age'] >= 40)]['Survived'].mean() * 100\n",
    "\n",
    "print(\"Если предположить, что взрослые мужчины - возраст до 40 лет, то получаются уже другие проценты\", \"\\n\"\n",
    "      \"Выживаемость молодых мужчин:\", yong_man, '\\n'\n",
    "      \"Выживаемость более взрослых мужчин\", adult_man, '\\n'\n",
    "      \"В этот раз они практически равны, однако виживаемость молодых мужчин будет на 0.4% больше\", \"\\n\")\n",
    "\n",
    "yong_man = df[(df['Sex'] == 'male') & (df['Age'] >= 18) & (df['Age'] < 50)]['Survived'].mean() * 100\n",
    "adult_man = df[(df['Sex'] == 'male') & (df['Age'] >= 50)]['Survived'].mean() * 100\n",
    "\n",
    "print(\"Если предположить, что взрослые мужчины - возраст до 50 лет, то получаются уже другие проценты\", \"\\n\"\n",
    "      \"Выживаемость молодых мужчин:\", yong_man, '\\n'\n",
    "      \"Выживаемость более взрослых мужчин\", adult_man, '\\n'\n",
    "      \"Наконец, если сказть, что возраст молодого человека - до 50 лет, то только в таком случае молодой мужчина будет сильно обгонять процентную выживаемость более взрослого\", \"\\n\")\n",
    "\n",
    "print(\"Однако, я считаю возраст молодого человека до 30 более корректным, поэтому возьму за основу эту статистику и опровергну теорию, сказав что по процентному соотношению взрослому человеку выжить легче\")\n",
    "\n",
    "yong_man = df[(df['Sex'] == 'male') & (df['Age'] >= 18) & (df['Age'] < 30)]['Survived'].mean() * 100\n",
    "adult_man = df[(df['Sex'] == 'male') & (df['Age'] >= 30)]['Survived'].mean() * 100\n",
    "\n",
    "print(\"Выживаемость молодых мужчин:\", yong_man, '\\n'\n",
    "      \"Выживаемость более взрослых мужчин\", adult_man,)"
   ]
  },
  {
   "cell_type": "markdown",
   "id": "deb4ca3a-3d8a-4205-bee9-d26fd28638b2",
   "metadata": {},
   "source": [
    "### 3. Визуализация"
   ]
  },
  {
   "cell_type": "markdown",
   "id": "f8941ce1-cbf2-465a-b013-1b84aeb999ef",
   "metadata": {},
   "source": [
    "Используя библиотеки matplotlib/sns/plotly/pandas и набор данных представленный ранее визуализируйте"
   ]
  },
  {
   "cell_type": "markdown",
   "id": "5e98ce6f-8d02-4120-ad85-241494c038d6",
   "metadata": {},
   "source": [
    "1. Постройте гистограмму распределения возростов пассажиров"
   ]
  },
  {
   "cell_type": "code",
   "execution_count": null,
   "id": "664666b2-17b7-49dd-a3bd-c4be9361755d",
   "metadata": {},
   "outputs": [],
   "source": []
  },
  {
   "cell_type": "markdown",
   "id": "4c7500bb-36ca-4ea7-bc3c-4f15afbd4c41",
   "metadata": {},
   "source": [
    "2. Постройте гистограммы распределения цен для пассажиров разных классов"
   ]
  },
  {
   "cell_type": "code",
   "execution_count": null,
   "id": "7325e7f8-5f00-4a82-8184-7064505f7ccd",
   "metadata": {},
   "outputs": [],
   "source": []
  },
  {
   "cell_type": "markdown",
   "id": "efdd0669-36e0-4708-ac6b-ad0d92881113",
   "metadata": {},
   "source": [
    "3. Постройте зависимость цены от возраста пассажира"
   ]
  },
  {
   "cell_type": "code",
   "execution_count": null,
   "id": "7504a170-04a1-4b86-924d-8d46be16fd3c",
   "metadata": {},
   "outputs": [],
   "source": []
  },
  {
   "cell_type": "markdown",
   "id": "b5839a48-e992-45fc-81ee-59cb5aa79dda",
   "metadata": {},
   "source": [
    "4. Постройте box plot отображающий распределение цен на билеты в разных классах"
   ]
  },
  {
   "cell_type": "code",
   "execution_count": null,
   "id": "1a942378-45ea-47a0-bac9-488960491613",
   "metadata": {},
   "outputs": [],
   "source": []
  },
  {
   "cell_type": "markdown",
   "id": "d4c97bef-bb64-43cc-a89f-7510174492ec",
   "metadata": {},
   "source": [
    "5. Визуализируйте распределение долей выживших среди мужчин, женщин и детей(до 16 лет)"
   ]
  },
  {
   "cell_type": "code",
   "execution_count": null,
   "id": "a1f444af-3544-432c-8dc6-bb74d4cff272",
   "metadata": {},
   "outputs": [],
   "source": []
  },
  {
   "cell_type": "markdown",
   "id": "16249674-e680-4ab0-a16a-4e98c24202ed",
   "metadata": {},
   "source": [
    "6. Сравните плотности распределения возростов выживших и умерших пассажиров, сделайте выводы"
   ]
  },
  {
   "cell_type": "code",
   "execution_count": null,
   "id": "5d1f5e09-3f97-45ad-87f8-c9796cc214db",
   "metadata": {},
   "outputs": [],
   "source": []
  },
  {
   "cell_type": "markdown",
   "id": "16afdeec-8c90-4ed1-a599-e0b1343bbf5c",
   "metadata": {},
   "source": [
    "7. Постройте круговую диаграмму отображающую выживаемость мужчин и женщин в разных классах обслуживания(визуализация должна быть интуитивно понятная без объяснений, женщины и мужчины соответствующих классов объеденены визуально в одну группу и 2 подгруппы)*\n",
    "\n",
    "\\* Задание на доп. балл"
   ]
  },
  {
   "cell_type": "code",
   "execution_count": null,
   "id": "e10d0cc7-a1ca-4204-a875-b1660e44618d",
   "metadata": {},
   "outputs": [],
   "source": []
  }
 ],
 "metadata": {
  "kernelspec": {
   "display_name": "Python 3 (ipykernel)",
   "language": "python",
   "name": "python3"
  },
  "language_info": {
   "codemirror_mode": {
    "name": "ipython",
    "version": 3
   },
   "file_extension": ".py",
   "mimetype": "text/x-python",
   "name": "python",
   "nbconvert_exporter": "python",
   "pygments_lexer": "ipython3",
   "version": "3.12.4"
  }
 },
 "nbformat": 4,
 "nbformat_minor": 5
}
